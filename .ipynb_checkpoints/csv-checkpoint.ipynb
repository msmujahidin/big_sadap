{
 "cells": [
  {
   "cell_type": "code",
   "execution_count": null,
   "metadata": {},
   "outputs": [],
   "source": []
  },
  {
   "cell_type": "code",
   "execution_count": null,
   "metadata": {},
   "outputs": [],
   "source": []
  },
  {
   "cell_type": "code",
   "execution_count": 35,
   "metadata": {},
   "outputs": [
    {
     "name": "stdout",
     "output_type": "stream",
     "text": [
      "         0001\n",
      "0  30/11/2019\n",
      "1      64.545\n",
      "2       5.809\n",
      "3      58.091\n"
     ]
    }
   ],
   "source": [
    "import pandas\n",
    "# df = pandas.read_csv('baru2.csv')\n",
    "df = pandas.read_csv('loss.csv', error_bad_lines=False)\n",
    "print(df)"
   ]
  },
  {
   "cell_type": "code",
   "execution_count": null,
   "metadata": {},
   "outputs": [],
   "source": []
  },
  {
   "cell_type": "code",
   "execution_count": 14,
   "metadata": {},
   "outputs": [
    {
     "name": "stdout",
     "output_type": "stream",
     "text": [
      "Type the Filename:\n"
     ]
    },
    {
     "name": "stdin",
     "output_type": "stream",
     "text": [
      ":: m\n"
     ]
    },
    {
     "name": "stdout",
     "output_type": "stream",
     "text": [
      "No such file found\n"
     ]
    },
    {
     "ename": "NameError",
     "evalue": "name 'output_str' is not defined",
     "output_type": "error",
     "traceback": [
      "\u001b[0;31m---------------------------------------------------------------------------\u001b[0m",
      "\u001b[0;31mNameError\u001b[0m                                 Traceback (most recent call last)",
      "\u001b[0;32m<ipython-input-14-baa03a30cfcd>\u001b[0m in \u001b[0;36m<module>\u001b[0;34m\u001b[0m\n\u001b[1;32m     14\u001b[0m \u001b[0;32melse\u001b[0m\u001b[0;34m:\u001b[0m\u001b[0;34m\u001b[0m\u001b[0;34m\u001b[0m\u001b[0m\n\u001b[1;32m     15\u001b[0m         \u001b[0mprint\u001b[0m \u001b[0;34m(\u001b[0m\u001b[0;34m\"No such file found\"\u001b[0m\u001b[0;34m)\u001b[0m\u001b[0;34m\u001b[0m\u001b[0;34m\u001b[0m\u001b[0m\n\u001b[0;32m---> 16\u001b[0;31m \u001b[0md\u001b[0m \u001b[0;34m=\u001b[0m \u001b[0moutput_str\u001b[0m\u001b[0;34m.\u001b[0m\u001b[0msplit\u001b[0m\u001b[0;34m(\u001b[0m\u001b[0;34m\"\\n\"\u001b[0m\u001b[0;34m)\u001b[0m\u001b[0;34m\u001b[0m\u001b[0;34m\u001b[0m\u001b[0m\n\u001b[0m\u001b[1;32m     17\u001b[0m \u001b[0;31m# for i in d:\u001b[0m\u001b[0;34m\u001b[0m\u001b[0;34m\u001b[0m\u001b[0;34m\u001b[0m\u001b[0m\n\u001b[1;32m     18\u001b[0m \u001b[0;31m#     print(i)\u001b[0m\u001b[0;34m\u001b[0m\u001b[0;34m\u001b[0m\u001b[0;34m\u001b[0m\u001b[0m\n",
      "\u001b[0;31mNameError\u001b[0m: name 'output_str' is not defined"
     ]
    }
   ],
   "source": [
    "import csv\n",
    "import pandas as pd\n",
    "#import binascii\n",
    "import numpy as nm\n",
    "\n",
    "from os.path import exists\n",
    "print(\"Type the Filename:\")\n",
    "\n",
    "input_data = input('::')\n",
    "\n",
    "if exists(input_data):\n",
    "        in_file = open(input_data,\"r\")\n",
    "        output_str = in_file.read()\n",
    "else:\n",
    "        print (\"No such file found\")\n",
    "d = output_str.split(\"\\n\")\n",
    "# for i in d:\n",
    "#     print(i)\n",
    "for i in d:\n",
    "    with open(\"baru22.csv\", \"a\") as out_file:\n",
    "       writer = csv.writer(out_file)\n",
    "       writer.writerow(nm.array(i.split(\":\")))        \n",
    "    out_file.close()"
   ]
  },
  {
   "cell_type": "code",
   "execution_count": 2,
   "metadata": {},
   "outputs": [],
   "source": [
    "|kode struk|tanggal|subtotal|tax|grandtotal|diskon|"
   ]
  },
  {
   "cell_type": "code",
   "execution_count": 2,
   "metadata": {},
   "outputs": [
    {
     "name": "stdout",
     "output_type": "stream",
     "text": [
      "['Bill # : 0001'];['Print Date : 30/11/2019'];['Item Total       (Rp):          64.545'];['Tax:             (Rp):           5.809'];['Net Sales        (Rp):          58.091'];['  0 Disc 10% Debit Mega         -3.727', '  0 Disc 10% Debit Mega         -2.727', 'Disc Total       (Rp):           6.454']\n"
     ]
    }
   ],
   "source": [
    "import re\n",
    "\n",
    "with open('data.bin') as f:\n",
    "    mylist = [line.rstrip('\\n') for line in f]\n",
    "#     print(mylist[2])\n",
    "\n",
    "y = re.compile(\".*Net\")\n",
    "x  = re.compile(\".*Bill\")\n",
    "z  = re.compile(\".*Date\")\n",
    "a  = re.compile(\".*Item\")\n",
    "b  = re.compile(\".*Tax\")\n",
    "d  = re.compile(\".*Disc\")\n",
    "\n",
    "# ih = re.split(\"\\s\", x)\n",
    "\n",
    "newlist  = list(filter(x.match, mylist)) # Baca catetan\n",
    "newlist3 = list(filter(z.match, mylist)) #tanggal\n",
    "newlist4 = list(filter(a.match, mylist)) #Sub Total\n",
    "newlist5 = list(filter(b.match, mylist))\n",
    "\n",
    "newlist2 = list(filter(y.match, mylist))\n",
    "newlist7 = list(filter(d.match, mylist))\n",
    "\n",
    "\n",
    "a = [newlist, newlist3, newlist4, newlist5, newlist2, newlist7]\n",
    "\n",
    "print(*a, sep = \";\") \n",
    "\n"
   ]
  },
  {
   "cell_type": "code",
   "execution_count": 3,
   "metadata": {},
   "outputs": [],
   "source": [
    "dictionary = {}\n",
    "\n",
    "for x in newlist:\n",
    "    p = x.find('1')\n",
    "    if p > 0 and x[p-1] == '-': p -= 1\n",
    "    dictionary[x[0:p].strip()] = x[p:].split()\n",
    "    \n",
    "for z in newlist3:\n",
    "    p = x.find('1')\n",
    "    if p > 0 and x[p-1] == '-': p -= 1\n",
    "    dictionary[x[0:p].strip()] = x[p:].split() \n",
    "\n",
    "for a in newlist4:\n",
    "    p = x.find('1')\n",
    "    if p > 0 and x[p-1] == '-': p -= 1\n",
    "    dictionary[x[0:p].strip()] = x[p:].split() \n",
    "\n",
    "for b in newlist5:\n",
    "    p = x.find('1')\n",
    "    if p > 0 and x[p-1] == '-': p -= 1\n",
    "    dictionary[x[0:p].strip()] = x[p:].split() \n",
    "\n",
    "for c in newlist2:\n",
    "    p = x.find('1')\n",
    "    if p > 0 and x[p-1] == '-': p -= 1\n",
    "    dictionary[x[0:p].strip()] = x[p:].split() \n",
    "\n",
    "\n",
    "   "
   ]
  },
  {
   "cell_type": "code",
   "execution_count": 4,
   "metadata": {},
   "outputs": [
    {
     "data": {
      "text/plain": [
       "'Tax:             (Rp):           5.809'"
      ]
     },
     "execution_count": 4,
     "metadata": {},
     "output_type": "execute_result"
    }
   ],
   "source": [
    "b"
   ]
  },
  {
   "cell_type": "code",
   "execution_count": 5,
   "metadata": {},
   "outputs": [
    {
     "name": "stdout",
     "output_type": "stream",
     "text": [
      "['Net', 'Sales', '', '', '', '', '', '', '', '(Rp):', '', '', '', '', '', '', '', '', '', '58.091']\n"
     ]
    }
   ],
   "source": [
    "str = x\n",
    "str1 = z\n",
    "str2 = a\n",
    "str3 = b\n",
    "str4 = c\n",
    "\n",
    "ih = re.split(\"\\s\", str)\n",
    "ihh = re.split(\"\\s\", str1)\n",
    "ihhh = re.split('\\s', str2)\n",
    "ihhhh = re.split('\\s', str3)\n",
    "ihhhhh = re.split('\\s', str4)\n",
    "print(ihhhhh)\n",
    "\n"
   ]
  },
  {
   "cell_type": "code",
   "execution_count": 15,
   "metadata": {},
   "outputs": [],
   "source": [
    "b = [ih[3], ihh[3], ihhh[18], ihhhh[24], ihhhhh[19]]\n",
    "\n",
    "\n"
   ]
  },
  {
   "cell_type": "code",
   "execution_count": 85,
   "metadata": {},
   "outputs": [
    {
     "name": "stdout",
     "output_type": "stream",
     "text": [
      "0001;30/11/2019;64.545;5.809;58.091\n",
      "0001\n"
     ]
    }
   ],
   "source": [
    "finalString = ''.join(ih[3])\n",
    "finalString2 = ''.join(ihh[3])\n",
    "finalString3 = ''.join(ihhh[18])\n",
    "finalString4 = ''.join(ihhhh[24])\n",
    "finalString5 = ''.join(ihhhhh[19])\n",
    "finalString6 = ''.join(b)\n",
    "\n",
    "# print(finalString)\n",
    "# print(finalString2)\n",
    "# print(finalString3)\n",
    "# print(finalString4)\n",
    "# print(finalString5)\n",
    "\n",
    "hasil = \"\"+finalString+\";\"+finalString2+\";\"+finalString3+\";\"+finalString4+\";\"+finalString5+\"\"\n",
    "print(hasil)\n",
    "# \n",
    "print(finalString)"
   ]
  },
  {
   "cell_type": "code",
   "execution_count": 86,
   "metadata": {},
   "outputs": [],
   "source": [
    "#ini fungsinya untuk save .txt\n",
    "\n",
    "text_file = open(\"Output.txt\", \"w\")\n",
    "text_file.write(hasil)\n",
    "text_file.close()"
   ]
  },
  {
   "cell_type": "code",
   "execution_count": 64,
   "metadata": {},
   "outputs": [],
   "source": [
    "hasil = [finalString,finalString2, finalString3, finalString4, finalString5]\n",
    "\n",
    "with open('listfile.txt', 'w') as filehandle:\n",
    "    for listitem in hasil:\n",
    "        filehandle.write(\"; %s\" % listitem)"
   ]
  },
  {
   "cell_type": "code",
   "execution_count": 59,
   "metadata": {},
   "outputs": [
    {
     "data": {
      "text/plain": [
       "['0001', '30/11/2019', '64.545', '5.809', '58.091']"
      ]
     },
     "execution_count": 59,
     "metadata": {},
     "output_type": "execute_result"
    }
   ],
   "source": [
    "hasil"
   ]
  },
  {
   "cell_type": "code",
   "execution_count": null,
   "metadata": {},
   "outputs": [],
   "source": []
  },
  {
   "cell_type": "code",
   "execution_count": null,
   "metadata": {},
   "outputs": [],
   "source": []
  },
  {
   "cell_type": "code",
   "execution_count": null,
   "metadata": {},
   "outputs": [],
   "source": []
  }
 ],
 "metadata": {
  "kernelspec": {
   "display_name": "Python 3",
   "language": "python",
   "name": "python3"
  },
  "language_info": {
   "codemirror_mode": {
    "name": "ipython",
    "version": 3
   },
   "file_extension": ".py",
   "mimetype": "text/x-python",
   "name": "python",
   "nbconvert_exporter": "python",
   "pygments_lexer": "ipython3",
   "version": "3.7.4"
  }
 },
 "nbformat": 4,
 "nbformat_minor": 4
}
